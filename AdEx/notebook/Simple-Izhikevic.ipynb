{
 "cells": [
  {
   "cell_type": "code",
   "execution_count": 3,
   "id": "5e2a6f55",
   "metadata": {},
   "outputs": [
    {
     "data": {
      "text/plain": [
       "1.0"
      ]
     },
     "execution_count": 3,
     "metadata": {},
     "output_type": "execute_result"
    }
   ],
   "source": [
    "from neuron import h\n",
    "import matplotlib.pyplot as plt\n",
    "h.load_file('stdrun.hoc') "
   ]
  },
  {
   "cell_type": "code",
   "execution_count": 4,
   "id": "f7b1c888",
   "metadata": {},
   "outputs": [],
   "source": [
    "# Create a soma and add a point process Izhikevic\n",
    "soma = h.Section(name='soma') \n",
    "#izhi = h.Izhi2007b(soma(0.5))\n",
    "adex = h.Adex2021b(soma(0.5))"
   ]
  },
  {
   "cell_type": "code",
   "execution_count": 5,
   "id": "73da2623",
   "metadata": {},
   "outputs": [],
   "source": [
    "h.tstop = 10000.0\n",
    "\n",
    "#Current Clamp\n",
    "ic = h. IClamp (0.5 , sec = soma )\n",
    "ic.delay = 2000.0 # ms\n",
    "ic.dur = 500.0 # ms\n",
    "ic.amp = 0.3 # nA"
   ]
  },
  {
   "cell_type": "code",
   "execution_count": 6,
   "id": "5e955263",
   "metadata": {},
   "outputs": [
    {
     "data": {
      "text/plain": [
       "Vector[1]"
      ]
     },
     "execution_count": 6,
     "metadata": {},
     "output_type": "execute_result"
    }
   ],
   "source": [
    "v_vec_soma = h.Vector() # Membrane potential vector\n",
    "t_vec = h.Vector() # Time stamp vector\n",
    "v_vec_soma.record(soma(0.5)._ref_v)\n",
    "t_vec.record(h._ref_t)"
   ]
  },
  {
   "cell_type": "code",
   "execution_count": null,
   "id": "d602c580",
   "metadata": {},
   "outputs": [],
   "source": [
    "h.run()"
   ]
  },
  {
   "cell_type": "code",
   "execution_count": null,
   "id": "f0bf055c",
   "metadata": {},
   "outputs": [],
   "source": [
    "plt.figure(figsize=(8,4)) # Default figsize is (8,6)\n",
    "plt.plot(t_vec, v_vec_soma, 'b', label='soma')\n",
    "plt.xlabel('time (ms)')\n",
    "plt.ylabel('mV')\n",
    "plt.show()"
   ]
  },
  {
   "cell_type": "code",
   "execution_count": null,
   "id": "c2017ba6",
   "metadata": {},
   "outputs": [],
   "source": []
  }
 ],
 "metadata": {
  "kernelspec": {
   "display_name": "Python 3 (ipykernel)",
   "language": "python",
   "name": "python3"
  },
  "language_info": {
   "codemirror_mode": {
    "name": "ipython",
    "version": 3
   },
   "file_extension": ".py",
   "mimetype": "text/x-python",
   "name": "python",
   "nbconvert_exporter": "python",
   "pygments_lexer": "ipython3",
   "version": "3.9.12"
  }
 },
 "nbformat": 4,
 "nbformat_minor": 5
}
