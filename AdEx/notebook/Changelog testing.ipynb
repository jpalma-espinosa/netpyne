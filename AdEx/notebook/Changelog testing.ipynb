{
 "cells": [
  {
   "cell_type": "code",
   "execution_count": 15,
   "id": "9b18bed1",
   "metadata": {},
   "outputs": [],
   "source": [
    "import json\n",
    "import sys\n",
    "import pandas as pd\n",
    "import pygit2 as pg\n",
    "from datetime import datetime\n",
    "import os\n"
   ]
  },
  {
   "cell_type": "code",
   "execution_count": 121,
   "id": "80f30f95",
   "metadata": {},
   "outputs": [],
   "source": [
    "def getCommits(repository):\n",
    "    repo = pg.Repository(repository)\n",
    " \n",
    "    commits = []\n",
    "    for commit in repo.walk(repo.head.target, pg.GIT_SORT_TIME):\n",
    "        #date, hash,message\n",
    "        commits.append([datetime.utcfromtimestamp(commit.commit_time).strftime('%Y-%m-%d %H:%M:%S'),\n",
    "                    commit.hex,\n",
    "                    commit.message])\n",
    "    return(commits)\n",
    "\n",
    "def getCommitsFromBranch(repository,branch):\n",
    "    repo = pg.Repository(repository)\n",
    "    commits = []\n",
    "    for commit in repo.branches.get(branch).log():\n",
    "        message_type = commit.message.split(':')\n",
    "        if(message_type[0]=='commit'):\n",
    "            commits.append([datetime.utcfromtimestamp(commit.committer.time).strftime('%Y-%m-%d %H:%M:%S'),\n",
    "                            str(commit.oid_new)[:7],\n",
    "                            message_type[1]])\n",
    "    return(commits)\n",
    "\n",
    "def make_clickable(val):\n",
    "    path = \"<a href=https://github.com/jpalma-espinosa/netpyne/commit/%s>%s</a>\"%(val,val[:8])\n",
    "    return path\n",
    "\n",
    "def get_changelog():\n",
    "    #TODO: update the git path so it is agnostic to the instalation directory\n",
    "    git_path = \"/home/javier/Neuroscience/netpyne/.git\"\n",
    "    branch = 'AdEx-Extension'\n",
    "    cm = getCommitsFromBranch(git_path,branch) \n",
    "    df = pd.DataFrame(cm,columns=['Date','Commit', 'log'])\n",
    "    #make hash linkeable to the webpage.\n",
    "    s = df.style.format({\"hash\": lambda x:make_clickable(x)}).hide_index()\n",
    "    out = s.set_table_attributes('class=\"mystyle\"').to_html()\n",
    "\n",
    "    return df"
   ]
  },
  {
   "cell_type": "code",
   "execution_count": 129,
   "id": "fbc73fc4",
   "metadata": {},
   "outputs": [
    {
     "data": {
      "text/plain": [
       "'77a5af2'"
      ]
     },
     "execution_count": 129,
     "metadata": {},
     "output_type": "execute_result"
    }
   ],
   "source": [
    "str(commit.oid_new)[:7]"
   ]
  },
  {
   "cell_type": "code",
   "execution_count": 21,
   "id": "40b8574d",
   "metadata": {},
   "outputs": [],
   "source": [
    "repo = pg.Repository(git_path)\n",
    "remote_branch = repo.branches.get('AdEx-Extension')"
   ]
  },
  {
   "cell_type": "code",
   "execution_count": 80,
   "id": "1008c556",
   "metadata": {},
   "outputs": [],
   "source": [
    "a = repo.head.target"
   ]
  },
  {
   "cell_type": "code",
   "execution_count": 97,
   "id": "b8fb7a95",
   "metadata": {},
   "outputs": [
    {
     "name": "stdout",
     "output_type": "stream",
     "text": [
      "['__class__', '__delattr__', '__dir__', '__doc__', '__eq__', '__format__', '__ge__', '__getattribute__', '__gt__', '__hash__', '__init__', '__init_subclass__', '__le__', '__lt__', '__ne__', '__new__', '__reduce__', '__reduce_ex__', '__repr__', '__setattr__', '__sizeof__', '__str__', '__subclasshook__', 'committer', 'message', 'oid_new', 'oid_old']\n",
      "['__class__', '__delattr__', '__dir__', '__doc__', '__eq__', '__format__', '__ge__', '__getattribute__', '__gt__', '__hash__', '__init__', '__init_subclass__', '__le__', '__lt__', '__ne__', '__new__', '__reduce__', '__reduce_ex__', '__repr__', '__setattr__', '__sizeof__', '__str__', '__subclasshook__', 'committer', 'message', 'oid_new', 'oid_old']\n",
      "['__class__', '__delattr__', '__dir__', '__doc__', '__eq__', '__format__', '__ge__', '__getattribute__', '__gt__', '__hash__', '__init__', '__init_subclass__', '__le__', '__lt__', '__ne__', '__new__', '__reduce__', '__reduce_ex__', '__repr__', '__setattr__', '__sizeof__', '__str__', '__subclasshook__', 'committer', 'message', 'oid_new', 'oid_old']\n",
      "['__class__', '__delattr__', '__dir__', '__doc__', '__eq__', '__format__', '__ge__', '__getattribute__', '__gt__', '__hash__', '__init__', '__init_subclass__', '__le__', '__lt__', '__ne__', '__new__', '__reduce__', '__reduce_ex__', '__repr__', '__setattr__', '__sizeof__', '__str__', '__subclasshook__', 'committer', 'message', 'oid_new', 'oid_old']\n",
      "['__class__', '__delattr__', '__dir__', '__doc__', '__eq__', '__format__', '__ge__', '__getattribute__', '__gt__', '__hash__', '__init__', '__init_subclass__', '__le__', '__lt__', '__ne__', '__new__', '__reduce__', '__reduce_ex__', '__repr__', '__setattr__', '__sizeof__', '__str__', '__subclasshook__', 'committer', 'message', 'oid_new', 'oid_old']\n",
      "['__class__', '__delattr__', '__dir__', '__doc__', '__eq__', '__format__', '__ge__', '__getattribute__', '__gt__', '__hash__', '__init__', '__init_subclass__', '__le__', '__lt__', '__ne__', '__new__', '__reduce__', '__reduce_ex__', '__repr__', '__setattr__', '__sizeof__', '__str__', '__subclasshook__', 'committer', 'message', 'oid_new', 'oid_old']\n",
      "['__class__', '__delattr__', '__dir__', '__doc__', '__eq__', '__format__', '__ge__', '__getattribute__', '__gt__', '__hash__', '__init__', '__init_subclass__', '__le__', '__lt__', '__ne__', '__new__', '__reduce__', '__reduce_ex__', '__repr__', '__setattr__', '__sizeof__', '__str__', '__subclasshook__', 'committer', 'message', 'oid_new', 'oid_old']\n",
      "['__class__', '__delattr__', '__dir__', '__doc__', '__eq__', '__format__', '__ge__', '__getattribute__', '__gt__', '__hash__', '__init__', '__init_subclass__', '__le__', '__lt__', '__ne__', '__new__', '__reduce__', '__reduce_ex__', '__repr__', '__setattr__', '__sizeof__', '__str__', '__subclasshook__', 'committer', 'message', 'oid_new', 'oid_old']\n",
      "['__class__', '__delattr__', '__dir__', '__doc__', '__eq__', '__format__', '__ge__', '__getattribute__', '__gt__', '__hash__', '__init__', '__init_subclass__', '__le__', '__lt__', '__ne__', '__new__', '__reduce__', '__reduce_ex__', '__repr__', '__setattr__', '__sizeof__', '__str__', '__subclasshook__', 'committer', 'message', 'oid_new', 'oid_old']\n"
     ]
    }
   ],
   "source": []
  },
  {
   "cell_type": "code",
   "execution_count": 116,
   "id": "8a95c128",
   "metadata": {},
   "outputs": [
    {
     "ename": "TypeError",
     "evalue": "<_pygit2.Branch object at 0x7fdc384e7b70>",
     "output_type": "error",
     "traceback": [
      "\u001b[0;31m---------------------------------------------------------------------------\u001b[0m",
      "\u001b[0;31mTypeError\u001b[0m                                 Traceback (most recent call last)",
      "\u001b[0;32m/tmp/ipykernel_291272/3490866575.py\u001b[0m in \u001b[0;36m<cell line: 1>\u001b[0;34m()\u001b[0m\n\u001b[0;32m----> 1\u001b[0;31m \u001b[0;32mfor\u001b[0m \u001b[0mcommit\u001b[0m \u001b[0;32min\u001b[0m \u001b[0mrepo\u001b[0m\u001b[0;34m.\u001b[0m\u001b[0mwalk\u001b[0m\u001b[0;34m(\u001b[0m\u001b[0mrepo\u001b[0m\u001b[0;34m.\u001b[0m\u001b[0mbranches\u001b[0m\u001b[0;34m.\u001b[0m\u001b[0mget\u001b[0m\u001b[0;34m(\u001b[0m\u001b[0;34m'AdEx-Extension'\u001b[0m\u001b[0;34m)\u001b[0m\u001b[0;34m,\u001b[0m \u001b[0mpg\u001b[0m\u001b[0;34m.\u001b[0m\u001b[0mGIT_SORT_TIME\u001b[0m\u001b[0;34m)\u001b[0m\u001b[0;34m:\u001b[0m\u001b[0;34m\u001b[0m\u001b[0;34m\u001b[0m\u001b[0m\n\u001b[0m\u001b[1;32m      2\u001b[0m     \u001b[0mprint\u001b[0m\u001b[0;34m(\u001b[0m\u001b[0mcommit\u001b[0m\u001b[0;34m.\u001b[0m\u001b[0mmessage\u001b[0m\u001b[0;34m)\u001b[0m\u001b[0;34m\u001b[0m\u001b[0;34m\u001b[0m\u001b[0m\n",
      "\u001b[0;31mTypeError\u001b[0m: <_pygit2.Branch object at 0x7fdc384e7b70>"
     ]
    }
   ],
   "source": [
    "for commit in repo.walk(repo.branches.get('AdEx-Extension'), pg.GIT_SORT_TIME):\n",
    "    print(commit.message)"
   ]
  },
  {
   "cell_type": "code",
   "execution_count": 48,
   "id": "48b3a3d7",
   "metadata": {},
   "outputs": [
    {
     "ename": "AttributeError",
     "evalue": "'builtin_function_or_method' object has no attribute 'message'",
     "output_type": "error",
     "traceback": [
      "\u001b[0;31m---------------------------------------------------------------------------\u001b[0m",
      "\u001b[0;31mAttributeError\u001b[0m                            Traceback (most recent call last)",
      "\u001b[0;32m/tmp/ipykernel_291272/4085317419.py\u001b[0m in \u001b[0;36m<cell line: 1>\u001b[0;34m()\u001b[0m\n\u001b[0;32m----> 1\u001b[0;31m \u001b[0mrepo\u001b[0m\u001b[0;34m.\u001b[0m\u001b[0mbranches\u001b[0m\u001b[0;34m.\u001b[0m\u001b[0mget\u001b[0m\u001b[0;34m(\u001b[0m\u001b[0;34m'AdEx-Extension'\u001b[0m\u001b[0;34m)\u001b[0m\u001b[0;34m.\u001b[0m\u001b[0mlog\u001b[0m\u001b[0;34m.\u001b[0m\u001b[0mmessage\u001b[0m\u001b[0;34m\u001b[0m\u001b[0;34m\u001b[0m\u001b[0m\n\u001b[0m",
      "\u001b[0;31mAttributeError\u001b[0m: 'builtin_function_or_method' object has no attribute 'message'"
     ]
    }
   ],
   "source": [
    "repo.branches.get('AdEx-Extension').log.message"
   ]
  },
  {
   "cell_type": "code",
   "execution_count": 119,
   "id": "c7597182",
   "metadata": {},
   "outputs": [],
   "source": [
    "commits = []\n",
    "for commit in repo.branches.get('AdEx-Extension').log():\n",
    "   \n",
    "        commits.append([datetime.utcfromtimestamp(commit.committer.time).strftime('%Y-%m-%d %H:%M:%S'),\n",
    "                        commit.oid_new,\n",
    "                        commit.message])"
   ]
  },
  {
   "cell_type": "code",
   "execution_count": 120,
   "id": "634c61fa",
   "metadata": {},
   "outputs": [
    {
     "data": {
      "text/plain": [
       "[['2022-02-26 16:35:06',\n",
       "  6b2ceaed43c1f06e201680146f39c78be29ca38b,\n",
       "  'pull --tags origin AdEx-Extension: Fast-forward'],\n",
       " ['2021-07-20 20:44:24',\n",
       "  10a7bcb5d0040747cd4c7f798d4e5526a6093993,\n",
       "  'commit: Pseudo working example of Adex2021b'],\n",
       " ['2021-07-19 04:07:31',\n",
       "  3cfd3333b13c171151f0d5febd4966ffbca5a4a1,\n",
       "  'pull --tags origin AdEx-Extension: Fast-forward'],\n",
       " ['2021-07-07 05:46:49',\n",
       "  ae1683c504e20be073f6f6722a0ec23ce0a7a62f,\n",
       "  \"pull --tags origin AdEx-Extension: Merge made by the 'recursive' strategy.\"],\n",
       " ['2021-07-07 05:46:44',\n",
       "  4601b03c73454513fd3b09249e4c200b62827376,\n",
       "  'commit: Changed typo in README'],\n",
       " ['2021-07-07 05:35:18',\n",
       "  be151ad2cd04d3c60ce3101c5033c30b096b6909,\n",
       "  'commit: Upload new documents. Thoughts and ideas in README'],\n",
       " ['2021-07-01 06:40:27',\n",
       "  026e684eafa79ef3045cb59727c6b84f5237453a,\n",
       "  'commit: Notes name changed'],\n",
       " ['2021-07-01 06:30:44',\n",
       "  ffda310a16aa5b959c3a8eb76d53cc62814df440,\n",
       "  'commit: Ball-Stick class is created (not working).'],\n",
       " ['2021-07-01 02:01:05',\n",
       "  77a5af26ad69807778a6157a1bb8749d5fa16b4a,\n",
       "  'branch: Created from refs/remotes/origin/AdEx-Extension']]"
      ]
     },
     "execution_count": 120,
     "metadata": {},
     "output_type": "execute_result"
    }
   ],
   "source": [
    "commits"
   ]
  },
  {
   "cell_type": "code",
   "execution_count": null,
   "id": "3b1c357a",
   "metadata": {},
   "outputs": [],
   "source": []
  }
 ],
 "metadata": {
  "kernelspec": {
   "display_name": "Python 3 (ipykernel)",
   "language": "python",
   "name": "python3"
  },
  "language_info": {
   "codemirror_mode": {
    "name": "ipython",
    "version": 3
   },
   "file_extension": ".py",
   "mimetype": "text/x-python",
   "name": "python",
   "nbconvert_exporter": "python",
   "pygments_lexer": "ipython3",
   "version": "3.9.10"
  }
 },
 "nbformat": 4,
 "nbformat_minor": 5
}
