{
 "metadata": {
  "language_info": {
   "codemirror_mode": {
    "name": "ipython",
    "version": 3
   },
   "file_extension": ".py",
   "mimetype": "text/x-python",
   "name": "python",
   "nbconvert_exporter": "python",
   "pygments_lexer": "ipython3",
   "version": "3.9.3"
  },
  "orig_nbformat": 2,
  "kernelspec": {
   "name": "python393jvsc74a57bd07812ea015bdcee6f23a998adcdd2ef97c151c0c241b7b7070987d9313e41299d",
   "display_name": "Python 3.9.3 64-bit"
  }
 },
 "nbformat": 4,
 "nbformat_minor": 2,
 "cells": [
  {
   "cell_type": "code",
   "execution_count": 5,
   "metadata": {},
   "outputs": [],
   "source": [
    "from neuron import h, gui\n",
    "from matplotlib import pyplot as plt\n",
    "from netpyne import specs, sim"
   ]
  },
  {
   "cell_type": "code",
   "execution_count": 6,
   "metadata": {},
   "outputs": [],
   "source": [
    "# Network parameters\n",
    "netParams = specs.NetParams()  # object of class NetParams to store the network parameters\n",
    "PYR_Izhi = {'secs': {}}\n",
    "PYR_Izhi['secs']['soma'] = {'geom': {}, 'pointps': {}}                        # soma params dict\n",
    "PYR_Izhi['secs']['soma']['geom'] = {'diam': 10.0, 'L': 10.0, 'cm': 31.831}    # soma geometry\n",
    "PYR_Izhi['secs']['soma']['pointps']['Izhi'] = {                               # soma Izhikevich properties\n",
    "        'mod':'Izhi2007b',\n",
    "        'C':1,\n",
    "        'k':0.7,\n",
    "        'vr':-60,\n",
    "        'vt':-40,\n",
    "        'vpeak':35,\n",
    "        'a':0.03,\n",
    "        'b':-2,\n",
    "        'c':-50,\n",
    "        'd':100,\n",
    "        'celltype':1}\n",
    "netParams.cellParams['PYR_Izhi'] = PYR_Izhi                                   # add dict to list of cell parameters"
   ]
  },
  {
   "cell_type": "code",
   "execution_count": null,
   "metadata": {},
   "outputs": [],
   "source": [
    "netParams.popParams['S'] = {'cellType': 'PYR_Izhi', 'numCells': 20}"
   ]
  },
  {
   "cell_type": "code",
   "execution_count": null,
   "metadata": {},
   "outputs": [],
   "source": []
  }
 ]
}