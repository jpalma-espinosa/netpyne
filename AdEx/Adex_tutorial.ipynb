{
 "metadata": {
  "language_info": {
   "codemirror_mode": {
    "name": "ipython",
    "version": 3
   },
   "file_extension": ".py",
   "mimetype": "text/x-python",
   "name": "python",
   "nbconvert_exporter": "python",
   "pygments_lexer": "ipython3",
   "version": "3.9.6"
  },
  "orig_nbformat": 2,
  "kernelspec": {
   "name": "python3",
   "display_name": "Python 3.9.6 64-bit ('netpyne': venv)"
  },
  "interpreter": {
   "hash": "1badb9f48f3438cd9e8c1850e1492f1e1ea44a0cefdbba34dd4b067cc5cae128"
  }
 },
 "nbformat": 4,
 "nbformat_minor": 2,
 "cells": [
  {
   "cell_type": "code",
   "execution_count": 1,
   "metadata": {},
   "outputs": [
    {
     "output_type": "stream",
     "name": "stderr",
     "text": [
      "NEURON: unable to open font \"*helvetica-medium-r-normal*--14*\", using \"fixed\"\n"
     ]
    }
   ],
   "source": [
    "from neuron import h, gui\n",
    "from matplotlib import pyplot as plt\n",
    "from netpyne import specs, sim"
   ]
  },
  {
   "cell_type": "code",
   "execution_count": 2,
   "metadata": {},
   "outputs": [],
   "source": [
    "netParams = specs.NetParams()   # object of class NetParams to store the network parameters\n",
    "simConfig = specs.SimConfig()   # object of class SimConfig to store the simulation configuration"
   ]
  },
  {
   "cell_type": "code",
   "execution_count": 3,
   "metadata": {},
   "outputs": [],
   "source": [
    "# Network parameters\n",
    "PYR_Adex = {'secs': {}}\n",
    "PYR_Adex['secs']['soma'] = {'geom': {}, 'pointps': {}}                        # soma params dict\n",
    "PYR_Adex['secs']['soma']['geom'] = {'diam': 10.0, 'L': 10.0, 'cm': 31.831}    # soma geometry\n",
    "PYR_Adex['secs']['soma']['pointps']['Adex'] = {\n",
    "    'mod':'Adex2021b',\n",
    "    'C': 200,\n",
    "    'gl': 10,\n",
    "    'E_l': -70,\n",
    "    'V_thre': -50,\n",
    "    'deltaT': 2, \n",
    "    'a': 2, \n",
    "    'tau_w':30, \n",
    "    'b':0,  \n",
    "    'I_ext':1500, \n",
    "    'V_reset':-58}             # soma Izhikevich properties\n",
    "netParams.cellParams['PYR_Adex'] = PYR_Adex                                  # add dict to list of cell parameters\n",
    "netParams.popParams['S'] = {'cellType': 'PYR_Adex', 'numCells': 20}"
   ]
  },
  {
   "cell_type": "code",
   "execution_count": 4,
   "metadata": {},
   "outputs": [],
   "source": [
    "simConfig.duration = 1*1e3 # Duration of the simulation, in ms\n",
    "simConfig.dt = 0.025 # Internal integration timestep to use\n",
    "simConfig.seeds = {'conn': 1, 'stim': 1, 'loc': 1} # Seeds for randomizers (connectivity, input stimulation and cell locations)\n",
    "simConfig.createNEURONObj = True  # create HOC objects when instantiating network\n",
    "simConfig.createPyStruct = True  # create Python structure (simulator-independent) when instantiating network\n",
    "simConfig.timing = True  # show timing  and save to file\n",
    "simConfig.verbose = True # show detailed messages"
   ]
  },
  {
   "cell_type": "code",
   "execution_count": 5,
   "metadata": {},
   "outputs": [],
   "source": [
    "# Recording\n",
    "simConfig.recordCells = [3]  # list of cells to record from\n",
    "simConfig.recordTraces = {\n",
    "    'V':{'sec':'soma','loc':0.5,'var':'v'},\n",
    "    'w':{'sec':'soma','loc':0.5,'var':'w'},\n",
    "}\n",
    "simConfig.recordStim = True  # record spikes of cell stims\n",
    "simConfig.recordStep = 0.025 # Step size in ms to save data (eg. V traces, LFP, etc)\n",
    "# Analysis and plotting\n",
    "simConfig.analysis['plotRaster'] = {'orderInverse': True} #True # Whether or not to plot a raster\n",
    "simConfig.analysis['plotTraces'] = {'include': [1,51]} # plot recorded traces for this list of cells"
   ]
  },
  {
   "cell_type": "code",
   "execution_count": 7,
   "metadata": {},
   "outputs": [
    {
     "output_type": "stream",
     "name": "stdout",
     "text": [
      "\nStart time:  2021-07-19 21:20:34.986722\n\nCreating network of 1 cell populations on 1 hosts...\nDistributed population of 20 cells on 1 hosts: {0: [0, 1, 2, 3, 4, 5, 6, 7, 8, 9, 10, 11, 12, 13, 14, 15, 16, 17, 18, 19]}, next: 0\nCell 0/19 (gid=0) of pop S, on node 0, \nCell 1/19 (gid=1) of pop S, on node 0, \nCell 2/19 (gid=2) of pop S, on node 0, \nCell 3/19 (gid=3) of pop S, on node 0, \nCell 4/19 (gid=4) of pop S, on node 0, \nCell 5/19 (gid=5) of pop S, on node 0, \nCell 6/19 (gid=6) of pop S, on node 0, \nCell 7/19 (gid=7) of pop S, on node 0, \nCell 8/19 (gid=8) of pop S, on node 0, \nCell 9/19 (gid=9) of pop S, on node 0, \nCell 10/19 (gid=10) of pop S, on node 0, \nCell 11/19 (gid=11) of pop S, on node 0, \nCell 12/19 (gid=12) of pop S, on node 0, \nCell 13/19 (gid=13) of pop S, on node 0, \nCell 14/19 (gid=14) of pop S, on node 0, \nCell 15/19 (gid=15) of pop S, on node 0, \nCell 16/19 (gid=16) of pop S, on node 0, \nCell 17/19 (gid=17) of pop S, on node 0, \nCell 18/19 (gid=18) of pop S, on node 0, \nCell 19/19 (gid=19) of pop S, on node 0, \nInstantiated 20 cells of population S\n  Number of cells on node 0: 20 \n  Done; cell creation time = 0.00 s.\nMaking connections...\n  Number of connections on node 0: 0 \n  Done; cell connection time = 0.00 s.\n  Number of stims on node 0: 0 \n  Done; cell stims creation time = 0.00 s.\n  Recording  V from cell  3  with parameters:  {'sec': 'soma', 'loc': 0.5, 'var': 'v'}\nVector[12]\n  Cannot record  w from cell  3\n  Recording  V from cell  1  with parameters:  {'sec': 'soma', 'loc': 0.5, 'var': 'v'}\nVector[13]\n  Cannot record  w from cell  1\n   Recording: spkt:\n   Recording: spkid:\n   Recording: stims:\n      cell_0\n      cell_1\n      cell_2\n      cell_3\n      cell_4\n      cell_5\n      cell_6\n      cell_7\n      cell_8\n      cell_9\n      cell_10\n      cell_11\n      cell_12\n      cell_13\n      cell_14\n      cell_15\n      cell_16\n      cell_17\n      cell_18\n      cell_19\n   Recording: V:\n      cell_3\n      cell_1\n   Recording: w:\n   Recording: t:\nRecording 22 traces of 2 types on node 0\n\nSetting h global variables ...\n  h.celsius = 6.3\n  h.v_init = -65.0\n  h.clamp_resist = 0.001\n  h.tstop = 1000.0\nMinimum delay (time-step for queue exchange) is 10.00\n\nRunning simulation for 1000.0 ms...\n  Done; run time = 0.09 s; real-time ratio: 11.58.\n\nGathering data...\n  Done; gather time = 0.01 s.\n\nAnalyzing...\n  Cells: 20\n  Connections: 0 (0.00 per cell)\n  Spikes: 0 (0.00 Hz)\n  Simulated time: 1.0 s; 1 workers\n  Run time: 0.09 s\n  Done; saving time = 0.03 s.\nPlotting raster...\nNo spikes available to plot raster\nPlotting recorded cell traces ... cell\n"
     ]
    },
    {
     "output_type": "display_data",
     "data": {
      "text/plain": "<Figure size 720x576 with 1 Axes>",
      "image/png": "[encoded data removed]"
     },
     "metadata": {
      "needs_background": "light"
     }
    },
    {
     "output_type": "stream",
     "name": "stdout",
     "text": [
      "  Done; plotting time = 0.12 s\n\nTotal time = 0.25 s\n\nEnd time:  2021-07-19 21:20:35.233818\n"
     ]
    }
   ],
   "source": [
    "# Create network and run simulation\n",
    "sim.createSimulateAnalyze(netParams = netParams, simConfig = simConfig)"
   ]
  },
  {
   "cell_type": "code",
   "execution_count": null,
   "metadata": {},
   "outputs": [],
   "source": []
  }
 ]
}